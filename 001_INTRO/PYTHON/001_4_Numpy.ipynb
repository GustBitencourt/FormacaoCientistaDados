{
 "cells": [
  {
   "cell_type": "code",
   "execution_count": 1,
   "metadata": {},
   "outputs": [],
   "source": [
    "import numpy as np"
   ]
  },
  {
   "cell_type": "code",
   "execution_count": 2,
   "metadata": {},
   "outputs": [
    {
     "data": {
      "text/plain": [
       "array([12, 34, 26, 18, 10])"
      ]
     },
     "execution_count": 2,
     "metadata": {},
     "output_type": "execute_result"
    }
   ],
   "source": [
    "mt = np.array([12, 34, 26, 18, 10])\n",
    "mt"
   ]
  },
  {
   "cell_type": "code",
   "execution_count": 5,
   "metadata": {},
   "outputs": [
    {
     "name": "stdout",
     "output_type": "stream",
     "text": [
      "[1 2 3]\n",
      "[1. 2. 3.]\n"
     ]
    }
   ],
   "source": [
    "#criar com tipo especifico\n",
    "mint = np.array([1, 2, 3], dtype = np.int32)\n",
    "mfloat = np.array([1, 2, 3], dtype = np.float64)\n",
    "print(mint)\n",
    "print(mfloat)"
   ]
  },
  {
   "cell_type": "code",
   "execution_count": 6,
   "metadata": {},
   "outputs": [
    {
     "name": "stdout",
     "output_type": "stream",
     "text": [
      "[ 12.   -34.    26.99  18.    10.  ]\n",
      "[ 12 -34  26  18  10]\n"
     ]
    }
   ],
   "source": [
    "#transformar dados\n",
    "mt = np.array([12, -34, 26.99, 18, 10])\n",
    "mtnew = mt.astype(np.int32)\n",
    "print(mt)\n",
    "print(mtnew)"
   ]
  },
  {
   "cell_type": "code",
   "execution_count": 7,
   "metadata": {},
   "outputs": [
    {
     "data": {
      "text/plain": [
       "array([[1, 2],\n",
       "       [3, 4],\n",
       "       [5, 6]])"
      ]
     },
     "execution_count": 7,
     "metadata": {},
     "output_type": "execute_result"
    }
   ],
   "source": [
    "#mais de uma dimensão\n",
    "mt2 = np.array([[1,2], [3,4], [5,6]])\n",
    "mt2"
   ]
  },
  {
   "cell_type": "code",
   "execution_count": 9,
   "metadata": {},
   "outputs": [
    {
     "data": {
      "text/plain": [
       "array([[         0, 1072693248],\n",
       "       [         0, 1073741824],\n",
       "       [         0, 1074266112]])"
      ]
     },
     "execution_count": 9,
     "metadata": {},
     "output_type": "execute_result"
    }
   ],
   "source": [
    "#arrays tipificados\n",
    "#matriz 3x2 não inicializada\n",
    "vazio = np.empty([3,2], dtype = int)\n",
    "vazio"
   ]
  },
  {
   "cell_type": "code",
   "execution_count": 10,
   "metadata": {},
   "outputs": [
    {
     "name": "stdout",
     "output_type": "stream",
     "text": [
      "[[0. 0. 0.]\n",
      " [0. 0. 0.]\n",
      " [0. 0. 0.]\n",
      " [0. 0. 0.]]\n"
     ]
    }
   ],
   "source": [
    "#matriz 4x3 com zeros\n",
    "zeros = np.zeros([4,3])\n",
    "print(zeros)"
   ]
  },
  {
   "cell_type": "code",
   "execution_count": 11,
   "metadata": {},
   "outputs": [
    {
     "name": "stdout",
     "output_type": "stream",
     "text": [
      "[[1. 1. 1. 1. 1. 1. 1.]\n",
      " [1. 1. 1. 1. 1. 1. 1.]\n",
      " [1. 1. 1. 1. 1. 1. 1.]\n",
      " [1. 1. 1. 1. 1. 1. 1.]\n",
      " [1. 1. 1. 1. 1. 1. 1.]]\n"
     ]
    }
   ],
   "source": [
    "#matriz 5x7 com uns\n",
    "uns = np.ones([5,7])\n",
    "print(uns)\n"
   ]
  },
  {
   "cell_type": "code",
   "execution_count": 12,
   "metadata": {},
   "outputs": [
    {
     "name": "stdout",
     "output_type": "stream",
     "text": [
      "[[1. 0. 0. 0. 0.]\n",
      " [0. 1. 0. 0. 0.]\n",
      " [0. 0. 1. 0. 0.]\n",
      " [0. 0. 0. 1. 0.]\n",
      " [0. 0. 0. 0. 1.]]\n"
     ]
    }
   ],
   "source": [
    "#matriz quadrada com diagonal 1 e outros valores zero\n",
    "diagonal = np.eye(5)\n",
    "print(diagonal)"
   ]
  },
  {
   "cell_type": "code",
   "execution_count": 13,
   "metadata": {},
   "outputs": [
    {
     "name": "stdout",
     "output_type": "stream",
     "text": [
      "[0.12547877 0.49699063 0.79112343 0.10344747 0.2404782 ]\n"
     ]
    }
   ],
   "source": [
    "#com valores aleatórios\n",
    "ale = np.random.random(5)\n",
    "print(ale)"
   ]
  },
  {
   "cell_type": "code",
   "execution_count": 14,
   "metadata": {},
   "outputs": [
    {
     "name": "stdout",
     "output_type": "stream",
     "text": [
      "[ 2.03390689 -1.15877761 -1.69366354  1.64227374 -0.49944516]\n"
     ]
    }
   ],
   "source": [
    "#aleatórios contendo negativos\n",
    "ale2 = np.random.randn(5)\n",
    "print(ale2)"
   ]
  },
  {
   "cell_type": "code",
   "execution_count": 15,
   "metadata": {},
   "outputs": [
    {
     "name": "stdout",
     "output_type": "stream",
     "text": [
      "[[3.35824321 5.64068496 3.40896859 0.48014791]\n",
      " [4.50433281 6.75707197 3.77527806 9.27361875]\n",
      " [4.34620303 5.52511507 4.44543342 8.66367181]]\n"
     ]
    }
   ],
   "source": [
    "#aleatórios 3x4\n",
    "ale3 = (10 * np.random.random((3,4)))\n",
    "print(ale3)"
   ]
  },
  {
   "cell_type": "code",
   "execution_count": 16,
   "metadata": {},
   "outputs": [
    {
     "name": "stdout",
     "output_type": "stream",
     "text": [
      "[0.51182162 0.9504637  0.14415961]\n"
     ]
    }
   ],
   "source": [
    "#aleatórios com semente\n",
    "gnr = np.random.default_rng(1)\n",
    "ale5 = gnr.random(3)\n",
    "print(ale5)"
   ]
  },
  {
   "cell_type": "code",
   "execution_count": 17,
   "metadata": {},
   "outputs": [
    {
     "name": "stdout",
     "output_type": "stream",
     "text": [
      "[[8 9 2 3]\n",
      " [8 4 2 8]\n",
      " [2 4 6 5]]\n"
     ]
    }
   ],
   "source": [
    "ale6 = gnr.integers(10, size=(3,4))\n",
    "print(ale6)"
   ]
  },
  {
   "cell_type": "code",
   "execution_count": 18,
   "metadata": {},
   "outputs": [
    {
     "name": "stdout",
     "output_type": "stream",
     "text": [
      "[1 2 3]\n"
     ]
    }
   ],
   "source": [
    "#remove valores repetidos\n",
    "j = np.array([1,1,1,1,1,2,2,2,2,3,3,3,3])\n",
    "j = np.unique(j)\n",
    "print(j)"
   ]
  },
  {
   "cell_type": "code",
   "execution_count": 19,
   "metadata": {},
   "outputs": [
    {
     "name": "stdout",
     "output_type": "stream",
     "text": [
      "[[1 2 3]\n",
      " [4 5 6]\n",
      " [7 8 9]]\n",
      "2\n",
      "(3, 3)\n"
     ]
    }
   ],
   "source": [
    "#funções de matriz\n",
    "k = np.array([[1,2,3], [4,5,6], [7,8,9]])\n",
    "print(k)\n",
    "print(k[0][1])\n",
    "#mostra o tamanho da matriz\n",
    "print(k.shape)"
   ]
  },
  {
   "cell_type": "code",
   "execution_count": 20,
   "metadata": {},
   "outputs": [
    {
     "name": "stdout",
     "output_type": "stream",
     "text": [
      "9\n",
      "1\n",
      "45\n",
      "5.0\n",
      "2.581988897471611\n"
     ]
    }
   ],
   "source": [
    "# funcões matemáticas\n",
    "print(k.max()) #valor máximo\n",
    "print(k.min()) #minimo\n",
    "print(k.sum()) #soma\n",
    "print(k.mean()) #média\n",
    "print(k.std()) #desvio padrão"
   ]
  },
  {
   "cell_type": "code",
   "execution_count": 22,
   "metadata": {},
   "outputs": [
    {
     "name": "stdout",
     "output_type": "stream",
     "text": [
      "[1. 2. 3. 4. 5. 6. 7. 8. 9.]\n",
      "[2.71828183e+00 5.45981500e+01 8.10308393e+03 8.88611052e+06\n",
      " 7.20048993e+10 4.31123155e+15 1.90734657e+21 6.23514908e+27\n",
      " 1.50609731e+35]\n"
     ]
    }
   ],
   "source": [
    "k1 = np.array([1,4,9,16,25,36,49,64,81])\n",
    "print(np.sqrt(k1)) #trás a raiz dos elementos\n",
    "print(np.exp(k1)) #trás o valor exponencial dos elementos"
   ]
  },
  {
   "cell_type": "code",
   "execution_count": 23,
   "metadata": {},
   "outputs": [
    {
     "name": "stdout",
     "output_type": "stream",
     "text": [
      "34\n",
      "[12 34]\n",
      "[34 26 18 10]\n",
      "[26 18 10]\n"
     ]
    }
   ],
   "source": [
    "#extração de elementos\n",
    "m = np.array([12, 34, 26, 18, 10])\n",
    "\n",
    "#posição dois\n",
    "print(m[1])\n",
    "#dois elemntos a partir de 0\n",
    "print(m[0:2])\n",
    "#a partir da posição um trás todos os elemntos\n",
    "print(m[1:])\n",
    "#dos os elemntos a partir do antipenultimo\n",
    "print(m[-3:])"
   ]
  },
  {
   "cell_type": "code",
   "execution_count": 24,
   "metadata": {},
   "outputs": [
    {
     "name": "stdout",
     "output_type": "stream",
     "text": [
      "[1 2]\n",
      "[3 4]\n",
      "[5 6]\n",
      "[1 3 5]\n",
      "[2 4 6]\n"
     ]
    }
   ],
   "source": [
    "l = np.array([[1,2], [3,4], [5,6]])\n",
    "#primeira linha\n",
    "print(l[0,:])\n",
    "#segunda linha\n",
    "print(l[1,:])\n",
    "print(l[2,:])\n",
    "#todas as linhas da primeira coluna\n",
    "print(l[:,0])\n",
    "#todas as linhas da segunda coluna\n",
    "print(l[:,1])\n"
   ]
  },
  {
   "cell_type": "code",
   "execution_count": 25,
   "metadata": {},
   "outputs": [
    {
     "name": "stdout",
     "output_type": "stream",
     "text": [
      "[[3 3]\n",
      " [5 5]\n",
      " [7 7]]\n"
     ]
    }
   ],
   "source": [
    "#Adição e multiplicação\n",
    "a = np.array([[1,2], [3,4]])\n",
    "b = np.array([[1,1], [1,1]])\n",
    "res = a + b\n",
    "res2 = a * b\n",
    "p = np.array([[1,2], [3,4], [5,6]])\n",
    "q = np.array([[2,1]])\n",
    "print(p + q)"
   ]
  },
  {
   "cell_type": "code",
   "execution_count": 26,
   "metadata": {},
   "outputs": [
    {
     "name": "stdout",
     "output_type": "stream",
     "text": [
      "[[ 0  1  2  3  4]\n",
      " [ 5  6  7  8  9]\n",
      " [10 11 12 13 14]]\n"
     ]
    }
   ],
   "source": [
    "# rearranjo de um conjunto de 15 elementos em 3 x 5\n",
    "f = np.arange(15).reshape((3,5))\n",
    "print(f)"
   ]
  },
  {
   "cell_type": "code",
   "execution_count": 27,
   "metadata": {},
   "outputs": [
    {
     "name": "stdout",
     "output_type": "stream",
     "text": [
      "[[ 0  5 10]\n",
      " [ 1  6 11]\n",
      " [ 2  7 12]\n",
      " [ 3  8 13]\n",
      " [ 4  9 14]]\n"
     ]
    }
   ],
   "source": [
    "#transposição trocando linha por coluna\n",
    "s = f.T\n",
    "print(s)"
   ]
  },
  {
   "cell_type": "code",
   "execution_count": 28,
   "metadata": {},
   "outputs": [
    {
     "name": "stdout",
     "output_type": "stream",
     "text": [
      "[[ 0  1  2  3  4]\n",
      " [ 5  6  7  8  9]\n",
      " [10 11 12 13 14]]\n",
      "[[ 0  5 10]\n",
      " [ 1  6 11]\n",
      " [ 2  7 12]\n",
      " [ 3  8 13]\n",
      " [ 4  9 14]]\n"
     ]
    }
   ],
   "source": [
    "#outra forma\n",
    "# rearranjo de um conjunto de 15 elementos em 3 x 5\n",
    "r = np.arange(15).reshape((3,5))\n",
    "print(f)\n",
    "#transposição trocando linha por coluna\n",
    "s = r.transpose((1,0))\n",
    "print(s)"
   ]
  },
  {
   "cell_type": "code",
   "execution_count": 29,
   "metadata": {},
   "outputs": [
    {
     "name": "stdout",
     "output_type": "stream",
     "text": [
      "[[-0.4878032   0.21787638 -0.9159527   2.50012592]\n",
      " [-0.47680008  0.68060426 -2.15139854 -1.20822782]\n",
      " [ 0.34491229  0.71795186  0.2589909  -1.22944907]\n",
      " [-1.1150128   0.19614787 -2.13183438 -0.27347458]]\n",
      "[[False  True False  True]\n",
      " [False  True False False]\n",
      " [ True  True  True False]\n",
      " [False  True False False]]\n",
      "[[-1  1 -1  1]\n",
      " [-1  1 -1 -1]\n",
      " [ 1  1  1 -1]\n",
      " [-1  1 -1 -1]]\n"
     ]
    }
   ],
   "source": [
    "#expressão lógica\n",
    "v = np.random.randn(4,4)\n",
    "print(v)\n",
    "\n",
    "print(v>0)\n",
    "\n",
    "z = np.where(v > 0, 1, -1)\n",
    "print(z)"
   ]
  }
 ],
 "metadata": {
  "kernelspec": {
   "display_name": "Python 3",
   "language": "python",
   "name": "python3"
  },
  "language_info": {
   "codemirror_mode": {
    "name": "ipython",
    "version": 3
   },
   "file_extension": ".py",
   "mimetype": "text/x-python",
   "name": "python",
   "nbconvert_exporter": "python",
   "pygments_lexer": "ipython3",
   "version": "3.7.9"
  }
 },
 "nbformat": 4,
 "nbformat_minor": 2
}
